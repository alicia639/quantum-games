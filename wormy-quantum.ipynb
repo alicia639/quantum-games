{
 "cells": [
  {
   "cell_type": "code",
   "execution_count": 1,
   "metadata": {},
   "outputs": [
    {
     "name": "stdout",
     "output_type": "stream",
     "text": [
      "Requirement already satisfied: pygame==2.0.0.dev10 in /home/alicia/dev/ENTER/envs/my-conda-env/lib/python3.8/site-packages (2.0.0.dev10)\n",
      "Requirement already satisfied: qiskit in /home/alicia/dev/ENTER/envs/my-conda-env/lib/python3.8/site-packages (0.20.0)\n",
      "Requirement already satisfied: qiskit-aqua==0.7.5 in /home/alicia/dev/ENTER/envs/my-conda-env/lib/python3.8/site-packages (from qiskit) (0.7.5)\n",
      "Requirement already satisfied: qiskit-ignis==0.4.0 in /home/alicia/dev/ENTER/envs/my-conda-env/lib/python3.8/site-packages (from qiskit) (0.4.0)\n",
      "Requirement already satisfied: qiskit-terra==0.15.1 in /home/alicia/dev/ENTER/envs/my-conda-env/lib/python3.8/site-packages (from qiskit) (0.15.1)\n",
      "Requirement already satisfied: qiskit-aer==0.6.1 in /home/alicia/dev/ENTER/envs/my-conda-env/lib/python3.8/site-packages (from qiskit) (0.6.1)\n",
      "Requirement already satisfied: qiskit-ibmq-provider==0.8.0 in /home/alicia/dev/ENTER/envs/my-conda-env/lib/python3.8/site-packages (from qiskit) (0.8.0)\n",
      "Requirement already satisfied: scikit-learn>=0.20.0 in /home/alicia/dev/ENTER/envs/my-conda-env/lib/python3.8/site-packages (from qiskit-aqua==0.7.5->qiskit) (0.23.2)\n",
      "Requirement already satisfied: fastdtw in /home/alicia/dev/ENTER/envs/my-conda-env/lib/python3.8/site-packages (from qiskit-aqua==0.7.5->qiskit) (0.3.4)\n",
      "Requirement already satisfied: dlx in /home/alicia/dev/ENTER/envs/my-conda-env/lib/python3.8/site-packages (from qiskit-aqua==0.7.5->qiskit) (1.0.4)\n",
      "Requirement already satisfied: sympy>=1.3 in /home/alicia/dev/ENTER/envs/my-conda-env/lib/python3.8/site-packages (from qiskit-aqua==0.7.5->qiskit) (1.6.2)\n",
      "Requirement already satisfied: docplex in /home/alicia/dev/ENTER/envs/my-conda-env/lib/python3.8/site-packages (from qiskit-aqua==0.7.5->qiskit) (2.15.194)\n",
      "Requirement already satisfied: numpy>=1.17 in /home/alicia/dev/ENTER/envs/my-conda-env/lib/python3.8/site-packages (from qiskit-aqua==0.7.5->qiskit) (1.19.1)\n",
      "Requirement already satisfied: setuptools>=40.1.0 in /home/alicia/dev/ENTER/envs/my-conda-env/lib/python3.8/site-packages (from qiskit-aqua==0.7.5->qiskit) (49.6.0.post20200814)\n",
      "Requirement already satisfied: scipy>=1.4 in /home/alicia/dev/ENTER/envs/my-conda-env/lib/python3.8/site-packages (from qiskit-aqua==0.7.5->qiskit) (1.4.1)\n",
      "Requirement already satisfied: h5py in /home/alicia/dev/ENTER/envs/my-conda-env/lib/python3.8/site-packages (from qiskit-aqua==0.7.5->qiskit) (2.10.0)\n",
      "Requirement already satisfied: networkx>=2.2 in /home/alicia/dev/ENTER/envs/my-conda-env/lib/python3.8/site-packages (from qiskit-aqua==0.7.5->qiskit) (2.5)\n",
      "Requirement already satisfied: psutil>=5 in /home/alicia/dev/ENTER/envs/my-conda-env/lib/python3.8/site-packages (from qiskit-aqua==0.7.5->qiskit) (5.7.2)\n",
      "Requirement already satisfied: quandl in /home/alicia/dev/ENTER/envs/my-conda-env/lib/python3.8/site-packages (from qiskit-aqua==0.7.5->qiskit) (3.5.2)\n",
      "Requirement already satisfied: yfinance in /home/alicia/dev/ENTER/envs/my-conda-env/lib/python3.8/site-packages (from qiskit-aqua==0.7.5->qiskit) (0.1.54)\n",
      "Requirement already satisfied: pandas in /home/alicia/dev/ENTER/envs/my-conda-env/lib/python3.8/site-packages (from qiskit-aqua==0.7.5->qiskit) (1.1.1)\n",
      "Requirement already satisfied: python-dateutil>=2.8.0 in /home/alicia/dev/ENTER/envs/my-conda-env/lib/python3.8/site-packages (from qiskit-terra==0.15.1->qiskit) (2.8.1)\n",
      "Requirement already satisfied: jsonschema>=2.6 in /home/alicia/dev/ENTER/envs/my-conda-env/lib/python3.8/site-packages (from qiskit-terra==0.15.1->qiskit) (3.2.0)\n",
      "Requirement already satisfied: retworkx>=0.4.0 in /home/alicia/dev/ENTER/envs/my-conda-env/lib/python3.8/site-packages (from qiskit-terra==0.15.1->qiskit) (0.4.0)\n",
      "Requirement already satisfied: dill>=0.3 in /home/alicia/dev/ENTER/envs/my-conda-env/lib/python3.8/site-packages (from qiskit-terra==0.15.1->qiskit) (0.3.2)\n",
      "Requirement already satisfied: ply>=3.10 in /home/alicia/dev/ENTER/envs/my-conda-env/lib/python3.8/site-packages (from qiskit-terra==0.15.1->qiskit) (3.11)\n",
      "Requirement already satisfied: fastjsonschema>=2.10 in /home/alicia/dev/ENTER/envs/my-conda-env/lib/python3.8/site-packages (from qiskit-terra==0.15.1->qiskit) (2.14.5)\n",
      "Requirement already satisfied: python-constraint>=1.4 in /home/alicia/dev/ENTER/envs/my-conda-env/lib/python3.8/site-packages (from qiskit-terra==0.15.1->qiskit) (1.4.0)\n",
      "Requirement already satisfied: pybind11>=2.4 in /home/alicia/dev/ENTER/envs/my-conda-env/lib/python3.8/site-packages (from qiskit-aer==0.6.1->qiskit) (2.5.0)\n",
      "Requirement already satisfied: cython>=0.27.1 in /home/alicia/dev/ENTER/envs/my-conda-env/lib/python3.8/site-packages (from qiskit-aer==0.6.1->qiskit) (0.29.21)\n",
      "Requirement already satisfied: websockets>=8; python_version > \"3.6\" in /home/alicia/dev/ENTER/envs/my-conda-env/lib/python3.8/site-packages (from qiskit-ibmq-provider==0.8.0->qiskit) (8.1)\n",
      "Requirement already satisfied: urllib3>=1.21.1 in /home/alicia/dev/ENTER/envs/my-conda-env/lib/python3.8/site-packages (from qiskit-ibmq-provider==0.8.0->qiskit) (1.25.10)\n",
      "Requirement already satisfied: nest-asyncio!=1.1.0,>=1.0.0 in /home/alicia/dev/ENTER/envs/my-conda-env/lib/python3.8/site-packages (from qiskit-ibmq-provider==0.8.0->qiskit) (1.4.0)\n",
      "Requirement already satisfied: requests-ntlm>=1.1.0 in /home/alicia/dev/ENTER/envs/my-conda-env/lib/python3.8/site-packages (from qiskit-ibmq-provider==0.8.0->qiskit) (1.1.0)\n",
      "Requirement already satisfied: requests>=2.19 in /home/alicia/dev/ENTER/envs/my-conda-env/lib/python3.8/site-packages (from qiskit-ibmq-provider==0.8.0->qiskit) (2.24.0)\n",
      "Requirement already satisfied: threadpoolctl>=2.0.0 in /home/alicia/dev/ENTER/envs/my-conda-env/lib/python3.8/site-packages (from scikit-learn>=0.20.0->qiskit-aqua==0.7.5->qiskit) (2.1.0)\n",
      "Requirement already satisfied: joblib>=0.11 in /home/alicia/dev/ENTER/envs/my-conda-env/lib/python3.8/site-packages (from scikit-learn>=0.20.0->qiskit-aqua==0.7.5->qiskit) (0.16.0)\n",
      "Requirement already satisfied: mpmath>=0.19 in /home/alicia/dev/ENTER/envs/my-conda-env/lib/python3.8/site-packages (from sympy>=1.3->qiskit-aqua==0.7.5->qiskit) (1.1.0)\n",
      "Requirement already satisfied: six in /home/alicia/dev/ENTER/envs/my-conda-env/lib/python3.8/site-packages (from docplex->qiskit-aqua==0.7.5->qiskit) (1.15.0)\n",
      "Requirement already satisfied: decorator>=4.3.0 in /home/alicia/dev/ENTER/envs/my-conda-env/lib/python3.8/site-packages (from networkx>=2.2->qiskit-aqua==0.7.5->qiskit) (4.4.2)\n",
      "Requirement already satisfied: more-itertools in /home/alicia/dev/ENTER/envs/my-conda-env/lib/python3.8/site-packages (from quandl->qiskit-aqua==0.7.5->qiskit) (8.5.0)\n",
      "Requirement already satisfied: inflection>=0.3.1 in /home/alicia/dev/ENTER/envs/my-conda-env/lib/python3.8/site-packages (from quandl->qiskit-aqua==0.7.5->qiskit) (0.5.1)\n",
      "Requirement already satisfied: multitasking>=0.0.7 in /home/alicia/dev/ENTER/envs/my-conda-env/lib/python3.8/site-packages (from yfinance->qiskit-aqua==0.7.5->qiskit) (0.0.9)\n",
      "Requirement already satisfied: pytz>=2017.2 in /home/alicia/dev/ENTER/envs/my-conda-env/lib/python3.8/site-packages (from pandas->qiskit-aqua==0.7.5->qiskit) (2020.1)\n",
      "Requirement already satisfied: attrs>=17.4.0 in /home/alicia/dev/ENTER/envs/my-conda-env/lib/python3.8/site-packages (from jsonschema>=2.6->qiskit-terra==0.15.1->qiskit) (19.3.0)\n",
      "Requirement already satisfied: pyrsistent>=0.14.0 in /home/alicia/dev/ENTER/envs/my-conda-env/lib/python3.8/site-packages (from jsonschema>=2.6->qiskit-terra==0.15.1->qiskit) (0.16.0)\n",
      "Requirement already satisfied: ntlm-auth>=1.0.2 in /home/alicia/dev/ENTER/envs/my-conda-env/lib/python3.8/site-packages (from requests-ntlm>=1.1.0->qiskit-ibmq-provider==0.8.0->qiskit) (1.5.0)\n",
      "Requirement already satisfied: cryptography>=1.3 in /home/alicia/dev/ENTER/envs/my-conda-env/lib/python3.8/site-packages (from requests-ntlm>=1.1.0->qiskit-ibmq-provider==0.8.0->qiskit) (3.1)\n",
      "Requirement already satisfied: chardet<4,>=3.0.2 in /home/alicia/dev/ENTER/envs/my-conda-env/lib/python3.8/site-packages (from requests>=2.19->qiskit-ibmq-provider==0.8.0->qiskit) (3.0.4)\n",
      "Requirement already satisfied: certifi>=2017.4.17 in /home/alicia/dev/ENTER/envs/my-conda-env/lib/python3.8/site-packages (from requests>=2.19->qiskit-ibmq-provider==0.8.0->qiskit) (2020.6.20)\n",
      "Requirement already satisfied: idna<3,>=2.5 in /home/alicia/dev/ENTER/envs/my-conda-env/lib/python3.8/site-packages (from requests>=2.19->qiskit-ibmq-provider==0.8.0->qiskit) (2.10)\n",
      "Requirement already satisfied: cffi!=1.11.3,>=1.8 in /home/alicia/dev/ENTER/envs/my-conda-env/lib/python3.8/site-packages (from cryptography>=1.3->requests-ntlm>=1.1.0->qiskit-ibmq-provider==0.8.0->qiskit) (1.14.1)\n",
      "Requirement already satisfied: pycparser in /home/alicia/dev/ENTER/envs/my-conda-env/lib/python3.8/site-packages (from cffi!=1.11.3,>=1.8->cryptography>=1.3->requests-ntlm>=1.1.0->qiskit-ibmq-provider==0.8.0->qiskit) (2.20)\n"
     ]
    }
   ],
   "source": [
    "!pip install pygame==2.0.0.dev10\n",
    "!pip install qiskit"
   ]
  },
  {
   "cell_type": "code",
   "execution_count": 2,
   "metadata": {},
   "outputs": [
    {
     "name": "stdout",
     "output_type": "stream",
     "text": [
      "pygame 2.0.0.dev10 (SDL 2.0.12, python 3.8.5)\n",
      "Hello from the pygame community. https://www.pygame.org/contribute.html\n"
     ]
    }
   ],
   "source": [
    "## Adding Quantum To The Game Wormy\n",
    "\n",
    "import random\n",
    "import pygame\n",
    "import sys\n",
    "from pygame.locals import *\n",
    "\n",
    "from qiskit import ClassicalRegister, QuantumRegister, QuantumCircuit, execute, Aer\n",
    "\n",
    "FPS = 15\n",
    "WINDOWWIDTH = 640\n",
    "WINDOWHEIGHT = 480\n",
    "CELLSIZE = 20\n",
    "assert WINDOWWIDTH % CELLSIZE == 0\n",
    "assert WINDOWHEIGHT % CELLSIZE == 0\n",
    "CELLWIDTH = int(WINDOWWIDTH / CELLSIZE)\n",
    "CELLHEIGHT = int(WINDOWHEIGHT / CELLSIZE)"
   ]
  },
  {
   "cell_type": "code",
   "execution_count": 3,
   "metadata": {},
   "outputs": [],
   "source": [
    "WHITE = (255, 255, 255)\n",
    "BLACK = (0, 0, 0)\n",
    "RED = (255, 0, 0)\n",
    "BLUE = (0, 0, 255)\n",
    "GREEN = (0, 255, 0)\n",
    "DARKGREEN = (0, 155, 0)\n",
    "DARKGRAY = (40, 40, 40)\n",
    "BGCOLOR = BLACK\n",
    "\n",
    "UP = 'up'\n",
    "DOWN = 'down'\n",
    "LEFT = 'left'\n",
    "RIGHT = 'right'\n",
    "\n",
    "HEAD = 0 # the worm's head"
   ]
  },
  {
   "cell_type": "code",
   "execution_count": 4,
   "metadata": {},
   "outputs": [],
   "source": [
    "def main():\n",
    "    global FPSCLOCK, DISPLAYSURF, BASICFONT\n",
    "    \n",
    "    pygame.init()\n",
    "    FPSCLOCK = pygame.time.Clock()\n",
    "    DISPLAYSURF = pygame.display.set_mode((WINDOWWIDTH, WINDOWHEIGHT))\n",
    "    BASICFONT = pygame.font.Font('freesansbold.ttf', 18)\n",
    "    pygame.display.set_caption('Quantum Wormy')\n",
    "    \n",
    "    \n",
    "    showStartScreen()\n",
    "    while True:\n",
    "        runGame()\n",
    "        showGameOverScreen()"
   ]
  },
  {
   "cell_type": "code",
   "execution_count": 5,
   "metadata": {},
   "outputs": [],
   "source": [
    "def runGame():\n",
    "    \n",
    "    device = 'qasm_simulator'\n",
    "        \n",
    "    simulator = Aer.get_backend(device)\n",
    "    \n",
    "    c = ClassicalRegister(1)\n",
    "    q = QuantumRegister(1)\n",
    "    circ = QuantumCircuit(q, c)\n",
    "    circ.measure(q, c)\n",
    "    circ.h(q[0])\n",
    "    circ.measure(q, c)\n",
    "        \n",
    "    startx = random.randint(5, CELLWIDTH-6)\n",
    "    starty = random.randint(5, CELLWIDTH-6)\n",
    "    wormCoords = [{'x': startx, 'y': starty},\n",
    "                 {'x': startx-1, 'y': starty},\n",
    "                 {'x': startx-2, 'y': starty}]\n",
    "    \n",
    "    direction = RIGHT\n",
    "    redApple = getRandomLocation() ## add in quantum things\n",
    "    blueApple = getRandomLocation()\n",
    "    \n",
    "    while True:\n",
    "        for event in pygame.event.get():\n",
    "            if event.type == QUIT:\n",
    "                terminate()\n",
    "            elif event.type == KEYDOWN:\n",
    "                if (event.key == K_LEFT or event.key == K_a) and direction != RIGHT:\n",
    "                    direction = LEFT\n",
    "                elif (event.key == K_RIGHT or event.key == K_d) and direction != LEFT:\n",
    "                    direction = RIGHT\n",
    "                elif (event.key == K_UP or event.key == K_w) and direction != DOWN:\n",
    "                    direction = UP\n",
    "                elif (event.key == K_DOWN or event.key == K_s) and direction != UP:\n",
    "                    direction = DOWN\n",
    "                elif event.key == K_ESCAPE:\n",
    "                    terminate()\n",
    "                    \n",
    "\n",
    "        if wormCoords[HEAD]['x'] == -1 or wormCoords[HEAD]['x']  == CELLWIDTH or wormCoords[HEAD]['y']== -1 or wormCoords[HEAD]['y']==CELLHEIGHT:\n",
    "            return # gameover\n",
    "        for wormBody in wormCoords[1:]:\n",
    "            if wormBody['x'] == wormCoords[HEAD]['x'] and wormBody['y'] == wormCoords[HEAD]['y']:\n",
    "                return # gameover\n",
    "        \n",
    "        if wormCoords[HEAD]['x'] == redApple['x'] and wormCoords[HEAD]['y'] == redApple['y']:\n",
    "            redApple = getRandomLocation()\n",
    "        elif wormCoords[HEAD]['x'] == blueApple['x'] and wormCoords[HEAD]['y'] == blueApple['y']:\n",
    "            result = execute(circ, backend=simulator, shots=1).result()\n",
    "            if result.get_counts(circ).get('0') is not None:\n",
    "                for i in range(4):\n",
    "                    if direction == UP:\n",
    "                        new = {'x': wormCoords[-1]['x'], 'y': wormCoords[-1]['y']+i}\n",
    "                    elif direction == DOWN:\n",
    "                        new = {'x': wormCoords[-1]['x'], 'y': wormCoords[-1]['y']-i}\n",
    "                    elif direction == LEFT:\n",
    "                        new = {'x': wormCoords[-1]['x']+i, 'y': wormCoords[-1]['y']}\n",
    "                    elif direction == RIGHT:\n",
    "                        new = {'x': wormCoords[-1]['x']-i, 'y': wormCoords[-1]['y']}\n",
    "                    wormCoords.insert(-1, new)\n",
    "            else:\n",
    "                if 5 > len(wormCoords):\n",
    "                    return # game over\n",
    "                for i in range(6):\n",
    "                    del wormCoords[-1]    \n",
    "            blueApple = getRandomLocation()\n",
    "        else:\n",
    "            del wormCoords[-1]\n",
    "            \n",
    "            \n",
    "        if direction == UP:\n",
    "            newHead = {'x': wormCoords[HEAD]['x'], 'y': wormCoords[HEAD]['y']-1}\n",
    "        elif direction == DOWN:\n",
    "            newHead = {'x': wormCoords[HEAD]['x'], 'y': wormCoords[HEAD]['y']+1}\n",
    "        elif direction == LEFT:\n",
    "            newHead = {'x': wormCoords[HEAD]['x']-1, 'y': wormCoords[HEAD]['y']}\n",
    "        elif direction == RIGHT:\n",
    "            newHead = {'x': wormCoords[HEAD]['x']+1, 'y': wormCoords[HEAD]['y']}\n",
    "        wormCoords.insert(0, newHead)\n",
    "        \n",
    "        DISPLAYSURF.fill(BGCOLOR)\n",
    "        drawGrid()\n",
    "        drawWorm(wormCoords)\n",
    "        drawApple(redApple, RED)\n",
    "        drawApple(blueApple, BLUE)\n",
    "        drawScore(len(wormCoords)-3)\n",
    "        pygame.display.update()\n",
    "        FPSCLOCK.tick(FPS)"
   ]
  },
  {
   "cell_type": "code",
   "execution_count": 6,
   "metadata": {},
   "outputs": [],
   "source": [
    "def drawPressKeyMsg():\n",
    "    pressKeySurf = BASICFONT.render('Press a key to play', True, DARKGRAY)\n",
    "    pressKeyRect = pressKeySurf.get_rect()\n",
    "    pressKeyRect.topleft = (WINDOWWIDTH-200, WINDOWHEIGHT-30)\n",
    "    DISPLAYSURF.blit(pressKeySurf, pressKeyRect)"
   ]
  },
  {
   "cell_type": "code",
   "execution_count": 7,
   "metadata": {},
   "outputs": [],
   "source": [
    "def checkForKeyPress():\n",
    "    if len(pygame.event.get(QUIT))>0:\n",
    "        terminate()\n",
    "    \n",
    "    keyUpEvents = pygame.event.get(KEYUP)\n",
    "    if len(keyUpEvents)==0:\n",
    "        return None\n",
    "    if keyUpEvents[0].key == K_ESCAPE:\n",
    "        terminate()\n",
    "    return keyUpEvents[0].key"
   ]
  },
  {
   "cell_type": "code",
   "execution_count": 8,
   "metadata": {},
   "outputs": [],
   "source": [
    "def showStartScreen():\n",
    "    titleFont = pygame.font.Font('freesansbold.ttf', 50)\n",
    "    titleSurf1 = titleFont.render('Quantum Wormy!', True, WHITE, DARKGREEN)\n",
    "    titleSurf2 = titleFont.render('Quantum Wormy!', True, GREEN)\n",
    "    \n",
    "    degrees1 = 0\n",
    "    degrees2 = 0\n",
    "    while True:\n",
    "        DISPLAYSURF.fill(BGCOLOR)\n",
    "        \n",
    "        rotatedSurf1 = pygame.transform.rotate(titleSurf1, degrees1)\n",
    "        rotatedRect1 = rotatedSurf1.get_rect()\n",
    "        rotatedRect1.center = (WINDOWWIDTH / 2, WINDOWHEIGHT / 2)\n",
    "        DISPLAYSURF.blit(rotatedSurf1, rotatedRect1)\n",
    "    \n",
    "        rotatedSurf2 = pygame.transform.rotate(titleSurf2, degrees2)\n",
    "        rotatedRect2 = rotatedSurf2.get_rect()\n",
    "        rotatedRect2.center = (WINDOWWIDTH / 2, WINDOWHEIGHT / 2)\n",
    "        DISPLAYSURF.blit(rotatedSurf2, rotatedRect2)\n",
    "    \n",
    "        drawPressKeyMsg()\n",
    "    \n",
    "        if checkForKeyPress():\n",
    "            pygame.event.get()\n",
    "            return\n",
    "        pygame.display.update()\n",
    "        FPSCLOCK.tick(FPS)\n",
    "        \n",
    "        degrees1 += 3\n",
    "        degrees2 += 7"
   ]
  },
  {
   "cell_type": "code",
   "execution_count": 9,
   "metadata": {},
   "outputs": [],
   "source": [
    "def terminate():\n",
    "    pygame.quit()\n",
    "    sys.exit()"
   ]
  },
  {
   "cell_type": "code",
   "execution_count": 10,
   "metadata": {},
   "outputs": [],
   "source": [
    "def getRandomLocation():\n",
    "    return {'x': random.randint(0, CELLWIDTH-1),'y': random.randint(0, CELLHEIGHT-1)}"
   ]
  },
  {
   "cell_type": "code",
   "execution_count": 11,
   "metadata": {},
   "outputs": [],
   "source": [
    "def showGameOverScreen():\n",
    "    gameOverFont = pygame.font.Font('freesansbold.ttf', 150)\n",
    "    gameSurf = gameOverFont.render('Game', True, WHITE)\n",
    "    overSurf = gameOverFont.render('Over', True, WHITE)\n",
    "    gameRect = gameSurf.get_rect()\n",
    "    overRect = overSurf.get_rect()\n",
    "    gameRect.midtop = (WINDOWWIDTH / 2, 10)\n",
    "    overRect.midtop = (WINDOWWIDTH / 2, gameRect.height + 10 + 25)\n",
    "    \n",
    "    DISPLAYSURF.blit(gameSurf, gameRect)\n",
    "    DISPLAYSURF.blit(overSurf, overRect)\n",
    "    drawPressKeyMsg()\n",
    "    pygame.display.update()\n",
    "    \n",
    "    pygame.time.wait(500)\n",
    "    checkForKeyPress()\n",
    "    \n",
    "    while True:\n",
    "        if checkForKeyPress():\n",
    "            pygame.event.get()\n",
    "            return"
   ]
  },
  {
   "cell_type": "code",
   "execution_count": 12,
   "metadata": {},
   "outputs": [],
   "source": [
    "def drawScore(score):\n",
    "    scoreSurf = BASICFONT.render('Score: %s'%(score), True, WHITE)\n",
    "    scoreRect = scoreSurf.get_rect()\n",
    "    scoreRect.topleft = (WINDOWWIDTH-120, 10)\n",
    "    DISPLAYSURF.blit(scoreSurf, scoreRect)"
   ]
  },
  {
   "cell_type": "code",
   "execution_count": 13,
   "metadata": {},
   "outputs": [],
   "source": [
    "def drawWorm(wormCoords):\n",
    "    for coord in wormCoords:\n",
    "        x = coord['x'] * CELLSIZE\n",
    "        y = coord['y'] * CELLSIZE\n",
    "        wormSegmentRect = pygame.Rect(x, y, CELLSIZE, CELLSIZE)\n",
    "        pygame.draw.rect(DISPLAYSURF, DARKGREEN, wormSegmentRect)\n",
    "        wormInnerSegmentRect = pygame.Rect(x+4, y+4, CELLSIZE-8, CELLSIZE-8)\n",
    "        pygame.draw.rect(DISPLAYSURF, GREEN, wormInnerSegmentRect)"
   ]
  },
  {
   "cell_type": "code",
   "execution_count": 14,
   "metadata": {},
   "outputs": [],
   "source": [
    "def drawApple(coord, colour):\n",
    "    x = coord['x'] * CELLSIZE\n",
    "    y = coord['y'] * CELLSIZE\n",
    "    appleRect = pygame.Rect(x, y, CELLSIZE, CELLSIZE)\n",
    "    pygame.draw.rect(DISPLAYSURF, colour, appleRect)"
   ]
  },
  {
   "cell_type": "code",
   "execution_count": 15,
   "metadata": {},
   "outputs": [],
   "source": [
    "def drawGrid():\n",
    "    for x in range(0, WINDOWWIDTH, CELLSIZE):\n",
    "        pygame.draw.line(DISPLAYSURF, DARKGRAY, (x, 0), (x, WINDOWHEIGHT))\n",
    "    for y in range(0, WINDOWHEIGHT, CELLSIZE):\n",
    "        pygame.draw.line(DISPLAYSURF, DARKGRAY, (0, y), (WINDOWWIDTH, y))"
   ]
  },
  {
   "cell_type": "code",
   "execution_count": 16,
   "metadata": {
    "scrolled": true
   },
   "outputs": [
    {
     "ename": "SystemExit",
     "evalue": "",
     "output_type": "error",
     "traceback": [
      "An exception has occurred, use %tb to see the full traceback.\n",
      "\u001b[0;31mSystemExit\u001b[0m\n"
     ]
    },
    {
     "name": "stderr",
     "output_type": "stream",
     "text": [
      "/home/alicia/dev/ENTER/envs/my-conda-env/lib/python3.8/site-packages/IPython/core/interactiveshell.py:3351: UserWarning: To exit: use 'exit', 'quit', or Ctrl-D.\n",
      "  warn(\"To exit: use 'exit', 'quit', or Ctrl-D.\", stacklevel=1)\n"
     ]
    }
   ],
   "source": [
    "if __name__ == '__main__':\n",
    "    main()"
   ]
  },
  {
   "cell_type": "code",
   "execution_count": null,
   "metadata": {},
   "outputs": [],
   "source": []
  },
  {
   "cell_type": "code",
   "execution_count": null,
   "metadata": {},
   "outputs": [],
   "source": []
  }
 ],
 "metadata": {
  "kernelspec": {
   "display_name": "Python 3",
   "language": "python",
   "name": "python3"
  },
  "language_info": {
   "codemirror_mode": {
    "name": "ipython",
    "version": 3
   },
   "file_extension": ".py",
   "mimetype": "text/x-python",
   "name": "python",
   "nbconvert_exporter": "python",
   "pygments_lexer": "ipython3",
   "version": "3.8.5"
  }
 },
 "nbformat": 4,
 "nbformat_minor": 4
}
